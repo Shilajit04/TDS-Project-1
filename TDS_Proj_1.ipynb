{
  "nbformat": 4,
  "nbformat_minor": 0,
  "metadata": {
    "colab": {
      "provenance": []
    },
    "kernelspec": {
      "name": "python3",
      "display_name": "Python 3"
    },
    "language_info": {
      "name": "python"
    }
  },
  "cells": [
    {
      "cell_type": "markdown",
      "source": [],
      "metadata": {
        "id": "3BAouNj-AooQ"
      }
    },
    {
      "cell_type": "markdown",
      "source": [
        "##***Installing necessary libraries***\n"
      ],
      "metadata": {
        "id": "C-1uKzdKAvp-"
      }
    },
    {
      "cell_type": "code",
      "execution_count": 57,
      "metadata": {
        "colab": {
          "base_uri": "https://localhost:8080/"
        },
        "id": "7m6WUh-nsB9k",
        "outputId": "1a8d2c1e-cb1c-4535-94af-649e144d9b76"
      },
      "outputs": [
        {
          "output_type": "stream",
          "name": "stdout",
          "text": [
            "Requirement already satisfied: requests in /usr/local/lib/python3.10/dist-packages (2.32.3)\n",
            "Requirement already satisfied: pandas in /usr/local/lib/python3.10/dist-packages (2.2.2)\n",
            "Requirement already satisfied: charset-normalizer<4,>=2 in /usr/local/lib/python3.10/dist-packages (from requests) (3.4.0)\n",
            "Requirement already satisfied: idna<4,>=2.5 in /usr/local/lib/python3.10/dist-packages (from requests) (3.10)\n",
            "Requirement already satisfied: urllib3<3,>=1.21.1 in /usr/local/lib/python3.10/dist-packages (from requests) (2.2.3)\n",
            "Requirement already satisfied: certifi>=2017.4.17 in /usr/local/lib/python3.10/dist-packages (from requests) (2024.8.30)\n",
            "Requirement already satisfied: numpy>=1.22.4 in /usr/local/lib/python3.10/dist-packages (from pandas) (1.26.4)\n",
            "Requirement already satisfied: python-dateutil>=2.8.2 in /usr/local/lib/python3.10/dist-packages (from pandas) (2.8.2)\n",
            "Requirement already satisfied: pytz>=2020.1 in /usr/local/lib/python3.10/dist-packages (from pandas) (2024.2)\n",
            "Requirement already satisfied: tzdata>=2022.7 in /usr/local/lib/python3.10/dist-packages (from pandas) (2024.2)\n",
            "Requirement already satisfied: six>=1.5 in /usr/local/lib/python3.10/dist-packages (from python-dateutil>=2.8.2->pandas) (1.16.0)\n"
          ]
        }
      ],
      "source": [
        "!pip install requests pandas\n",
        "import numpy as np"
      ]
    },
    {
      "cell_type": "markdown",
      "source": [
        "## ***Uploading the users and their respective repos as CSV files***"
      ],
      "metadata": {
        "id": "A8IF2BsRBQ19"
      }
    },
    {
      "cell_type": "code",
      "source": [
        "from google.colab import files\n",
        "\n",
        "# Upload files\n",
        "uploaded = files.upload()"
      ],
      "metadata": {
        "colab": {
          "base_uri": "https://localhost:8080/",
          "height": 109
        },
        "id": "AIKm9Ci21uOE",
        "outputId": "6936d026-9142-4598-bdec-7ce279bbbd7e"
      },
      "execution_count": 58,
      "outputs": [
        {
          "output_type": "display_data",
          "data": {
            "text/plain": [
              "<IPython.core.display.HTML object>"
            ],
            "text/html": [
              "\n",
              "     <input type=\"file\" id=\"files-bede0ced-339e-4b88-9a7a-6bf589fabe82\" name=\"files[]\" multiple disabled\n",
              "        style=\"border:none\" />\n",
              "     <output id=\"result-bede0ced-339e-4b88-9a7a-6bf589fabe82\">\n",
              "      Upload widget is only available when the cell has been executed in the\n",
              "      current browser session. Please rerun this cell to enable.\n",
              "      </output>\n",
              "      <script>// Copyright 2017 Google LLC\n",
              "//\n",
              "// Licensed under the Apache License, Version 2.0 (the \"License\");\n",
              "// you may not use this file except in compliance with the License.\n",
              "// You may obtain a copy of the License at\n",
              "//\n",
              "//      http://www.apache.org/licenses/LICENSE-2.0\n",
              "//\n",
              "// Unless required by applicable law or agreed to in writing, software\n",
              "// distributed under the License is distributed on an \"AS IS\" BASIS,\n",
              "// WITHOUT WARRANTIES OR CONDITIONS OF ANY KIND, either express or implied.\n",
              "// See the License for the specific language governing permissions and\n",
              "// limitations under the License.\n",
              "\n",
              "/**\n",
              " * @fileoverview Helpers for google.colab Python module.\n",
              " */\n",
              "(function(scope) {\n",
              "function span(text, styleAttributes = {}) {\n",
              "  const element = document.createElement('span');\n",
              "  element.textContent = text;\n",
              "  for (const key of Object.keys(styleAttributes)) {\n",
              "    element.style[key] = styleAttributes[key];\n",
              "  }\n",
              "  return element;\n",
              "}\n",
              "\n",
              "// Max number of bytes which will be uploaded at a time.\n",
              "const MAX_PAYLOAD_SIZE = 100 * 1024;\n",
              "\n",
              "function _uploadFiles(inputId, outputId) {\n",
              "  const steps = uploadFilesStep(inputId, outputId);\n",
              "  const outputElement = document.getElementById(outputId);\n",
              "  // Cache steps on the outputElement to make it available for the next call\n",
              "  // to uploadFilesContinue from Python.\n",
              "  outputElement.steps = steps;\n",
              "\n",
              "  return _uploadFilesContinue(outputId);\n",
              "}\n",
              "\n",
              "// This is roughly an async generator (not supported in the browser yet),\n",
              "// where there are multiple asynchronous steps and the Python side is going\n",
              "// to poll for completion of each step.\n",
              "// This uses a Promise to block the python side on completion of each step,\n",
              "// then passes the result of the previous step as the input to the next step.\n",
              "function _uploadFilesContinue(outputId) {\n",
              "  const outputElement = document.getElementById(outputId);\n",
              "  const steps = outputElement.steps;\n",
              "\n",
              "  const next = steps.next(outputElement.lastPromiseValue);\n",
              "  return Promise.resolve(next.value.promise).then((value) => {\n",
              "    // Cache the last promise value to make it available to the next\n",
              "    // step of the generator.\n",
              "    outputElement.lastPromiseValue = value;\n",
              "    return next.value.response;\n",
              "  });\n",
              "}\n",
              "\n",
              "/**\n",
              " * Generator function which is called between each async step of the upload\n",
              " * process.\n",
              " * @param {string} inputId Element ID of the input file picker element.\n",
              " * @param {string} outputId Element ID of the output display.\n",
              " * @return {!Iterable<!Object>} Iterable of next steps.\n",
              " */\n",
              "function* uploadFilesStep(inputId, outputId) {\n",
              "  const inputElement = document.getElementById(inputId);\n",
              "  inputElement.disabled = false;\n",
              "\n",
              "  const outputElement = document.getElementById(outputId);\n",
              "  outputElement.innerHTML = '';\n",
              "\n",
              "  const pickedPromise = new Promise((resolve) => {\n",
              "    inputElement.addEventListener('change', (e) => {\n",
              "      resolve(e.target.files);\n",
              "    });\n",
              "  });\n",
              "\n",
              "  const cancel = document.createElement('button');\n",
              "  inputElement.parentElement.appendChild(cancel);\n",
              "  cancel.textContent = 'Cancel upload';\n",
              "  const cancelPromise = new Promise((resolve) => {\n",
              "    cancel.onclick = () => {\n",
              "      resolve(null);\n",
              "    };\n",
              "  });\n",
              "\n",
              "  // Wait for the user to pick the files.\n",
              "  const files = yield {\n",
              "    promise: Promise.race([pickedPromise, cancelPromise]),\n",
              "    response: {\n",
              "      action: 'starting',\n",
              "    }\n",
              "  };\n",
              "\n",
              "  cancel.remove();\n",
              "\n",
              "  // Disable the input element since further picks are not allowed.\n",
              "  inputElement.disabled = true;\n",
              "\n",
              "  if (!files) {\n",
              "    return {\n",
              "      response: {\n",
              "        action: 'complete',\n",
              "      }\n",
              "    };\n",
              "  }\n",
              "\n",
              "  for (const file of files) {\n",
              "    const li = document.createElement('li');\n",
              "    li.append(span(file.name, {fontWeight: 'bold'}));\n",
              "    li.append(span(\n",
              "        `(${file.type || 'n/a'}) - ${file.size} bytes, ` +\n",
              "        `last modified: ${\n",
              "            file.lastModifiedDate ? file.lastModifiedDate.toLocaleDateString() :\n",
              "                                    'n/a'} - `));\n",
              "    const percent = span('0% done');\n",
              "    li.appendChild(percent);\n",
              "\n",
              "    outputElement.appendChild(li);\n",
              "\n",
              "    const fileDataPromise = new Promise((resolve) => {\n",
              "      const reader = new FileReader();\n",
              "      reader.onload = (e) => {\n",
              "        resolve(e.target.result);\n",
              "      };\n",
              "      reader.readAsArrayBuffer(file);\n",
              "    });\n",
              "    // Wait for the data to be ready.\n",
              "    let fileData = yield {\n",
              "      promise: fileDataPromise,\n",
              "      response: {\n",
              "        action: 'continue',\n",
              "      }\n",
              "    };\n",
              "\n",
              "    // Use a chunked sending to avoid message size limits. See b/62115660.\n",
              "    let position = 0;\n",
              "    do {\n",
              "      const length = Math.min(fileData.byteLength - position, MAX_PAYLOAD_SIZE);\n",
              "      const chunk = new Uint8Array(fileData, position, length);\n",
              "      position += length;\n",
              "\n",
              "      const base64 = btoa(String.fromCharCode.apply(null, chunk));\n",
              "      yield {\n",
              "        response: {\n",
              "          action: 'append',\n",
              "          file: file.name,\n",
              "          data: base64,\n",
              "        },\n",
              "      };\n",
              "\n",
              "      let percentDone = fileData.byteLength === 0 ?\n",
              "          100 :\n",
              "          Math.round((position / fileData.byteLength) * 100);\n",
              "      percent.textContent = `${percentDone}% done`;\n",
              "\n",
              "    } while (position < fileData.byteLength);\n",
              "  }\n",
              "\n",
              "  // All done.\n",
              "  yield {\n",
              "    response: {\n",
              "      action: 'complete',\n",
              "    }\n",
              "  };\n",
              "}\n",
              "\n",
              "scope.google = scope.google || {};\n",
              "scope.google.colab = scope.google.colab || {};\n",
              "scope.google.colab._files = {\n",
              "  _uploadFiles,\n",
              "  _uploadFilesContinue,\n",
              "};\n",
              "})(self);\n",
              "</script> "
            ]
          },
          "metadata": {}
        },
        {
          "output_type": "stream",
          "name": "stdout",
          "text": [
            "Saving users.csv to users.csv\n",
            "Saving repositories.csv to repositories.csv\n"
          ]
        }
      ]
    },
    {
      "cell_type": "markdown",
      "source": [
        "###**1. Who are the top 5 users in Basel with the highest number of followers?  List their login in order, comma-separated.**"
      ],
      "metadata": {
        "id": "htDRcQ49BmeQ"
      }
    },
    {
      "cell_type": "code",
      "source": [
        "import pandas as pd\n",
        "\n",
        "# Load the users.csv file into a DataFrame\n",
        "users_df = pd.read_csv('users.csv')\n",
        "\n",
        "# Sort the DataFrame by 'followers' column in descending order\n",
        "top_5_users = users_df.sort_values(by='followers', ascending=False).head(5)\n",
        "\n",
        "# Extract the 'login' column and create a comma-separated string\n",
        "top_5_logins = ','.join(top_5_users['login'].values)\n",
        "\n",
        "# Print the result\n",
        "print(top_5_logins)\n"
      ],
      "metadata": {
        "colab": {
          "base_uri": "https://localhost:8080/"
        },
        "id": "EAcOFkL53peY",
        "outputId": "b80242ea-8848-4a66-bc30-ad3814345a09"
      },
      "execution_count": 59,
      "outputs": [
        {
          "output_type": "stream",
          "name": "stdout",
          "text": [
            "tarsius,aalmiray,marcoroth,klmr,MrNeRF\n"
          ]
        }
      ]
    },
    {
      "cell_type": "markdown",
      "source": [
        "###**2. Who are the 5 earliest registered GitHub users in Basel? List their login in ascending order of created_at, comma-separated.**"
      ],
      "metadata": {
        "id": "X1r64BM4B-0f"
      }
    },
    {
      "cell_type": "code",
      "source": [
        "import pandas as pd\n",
        "\n",
        "# Load the users.csv file into a DataFrame\n",
        "users_df = pd.read_csv('users.csv')\n",
        "\n",
        "# Ensure the 'created_at' column is in datetime format\n",
        "users_df['created_at'] = pd.to_datetime(users_df['created_at'])\n",
        "\n",
        "# Sort the DataFrame by 'created_at' in ascending order and select the top 5 users\n",
        "earliest_5_users = users_df.sort_values(by='created_at').head(5)\n",
        "\n",
        "# Extract the 'login' column and create a comma-separated string\n",
        "earliest_5_logins = ','.join(earliest_5_users['login'].values)\n",
        "\n",
        "# Print the result\n",
        "print(earliest_5_logins)\n"
      ],
      "metadata": {
        "colab": {
          "base_uri": "https://localhost:8080/"
        },
        "id": "XgaQd7c9AKbM",
        "outputId": "be5bb417-8eb9-43d3-ccdf-087e3c8aabce"
      },
      "execution_count": 60,
      "outputs": [
        {
          "output_type": "stream",
          "name": "stdout",
          "text": [
            "bennyzen,aalmiray,pvillega,tarsius,amaunz\n"
          ]
        }
      ]
    },
    {
      "cell_type": "markdown",
      "source": [
        "###**3. What are the 3 most popular license among these users? Ignore missing licenses. List the license_name in order, comma-separated.**"
      ],
      "metadata": {
        "id": "G-gKqzNnCI6Y"
      }
    },
    {
      "cell_type": "code",
      "source": [
        "import pandas as pd\n",
        "\n",
        "# Load the repositories.csv file into a DataFrame\n",
        "repos_df = pd.read_csv('repositories.csv')\n",
        "\n",
        "# Filter out rows with missing or empty 'license_name'\n",
        "repos_with_license = repos_df[repos_df['license_name'].notna() & (repos_df['license_name'] != '')]\n",
        "\n",
        "# Count the occurrences of each license and get the top 3\n",
        "top_3_licenses = repos_with_license['license_name'].value_counts().head(3)\n",
        "\n",
        "# Extract the license names and create a comma-separated string\n",
        "top_3_license_names = ','.join(top_3_licenses.index)\n",
        "\n",
        "# Print the result\n",
        "print( top_3_license_names)\n"
      ],
      "metadata": {
        "colab": {
          "base_uri": "https://localhost:8080/"
        },
        "id": "jYMu08-2Amcd",
        "outputId": "c8cabae7-c19b-4c72-9b9a-17ef2019815f"
      },
      "execution_count": null,
      "outputs": [
        {
          "output_type": "stream",
          "name": "stdout",
          "text": [
            "mit,apache-2.0,other\n"
          ]
        }
      ]
    },
    {
      "cell_type": "markdown",
      "source": [
        "###**4. Which company do the majority of these developers work at?**"
      ],
      "metadata": {
        "id": "KM1-IZrLCRJd"
      }
    },
    {
      "cell_type": "code",
      "source": [
        "import pandas as pd\n",
        "\n",
        "# Load the users.csv file into a DataFrame\n",
        "users_df = pd.read_csv('users.csv')\n",
        "\n",
        "# Filter out rows with missing or empty 'company' values\n",
        "users_with_company = users_df[users_df['company'].notna() & (users_df['company'] != '')]\n",
        "\n",
        "# Find the most common company (mode)\n",
        "most_common_company = users_with_company['company'].mode().values[0]\n",
        "\n",
        "# Print the result\n",
        "print(most_common_company)\n"
      ],
      "metadata": {
        "colab": {
          "base_uri": "https://localhost:8080/"
        },
        "id": "AVrNFHI8Cler",
        "outputId": "3aff1eb3-388b-43a0-a8a8-ddf979f6aa24"
      },
      "execution_count": null,
      "outputs": [
        {
          "output_type": "stream",
          "name": "stdout",
          "text": [
            "ADOBE\n"
          ]
        }
      ]
    },
    {
      "cell_type": "markdown",
      "source": [
        "###**5. Which programming language is most popular among these users?**"
      ],
      "metadata": {
        "id": "V4fIcvy2C2w3"
      }
    },
    {
      "cell_type": "code",
      "source": [
        "import pandas as pd\n",
        "\n",
        "# Load the repositories.csv file into a DataFrame\n",
        "repos_df = pd.read_csv('repositories.csv')\n",
        "\n",
        "# Filter out rows with missing or empty 'language' values\n",
        "repos_with_language = repos_df[repos_df['language'].notna() & (repos_df['language'] != '')]\n",
        "\n",
        "# Find the most common programming language (mode)\n",
        "most_common_language = repos_with_language['language'].mode().values[0]\n",
        "\n",
        "# Print the result\n",
        "print(most_common_language)\n"
      ],
      "metadata": {
        "colab": {
          "base_uri": "https://localhost:8080/"
        },
        "id": "BmS3sWZTC4DQ",
        "outputId": "e3955802-cd96-4a0e-e0ef-e4756e786921"
      },
      "execution_count": 62,
      "outputs": [
        {
          "output_type": "stream",
          "name": "stdout",
          "text": [
            "JavaScript\n"
          ]
        }
      ]
    },
    {
      "cell_type": "markdown",
      "source": [
        "###**6. Which programming language is the second most popular among users who joined after 2020?**"
      ],
      "metadata": {
        "id": "AmJd6-nhDTIj"
      }
    },
    {
      "cell_type": "code",
      "source": [
        "import pandas as pd\n",
        "\n",
        "# Load the users.csv and repositories.csv files into DataFrames\n",
        "users_df = pd.read_csv('users.csv')\n",
        "repos_df = pd.read_csv('repositories.csv')\n",
        "\n",
        "# Ensure the 'created_at' column is in datetime format\n",
        "users_df['created_at'] = pd.to_datetime(users_df['created_at'])\n",
        "\n",
        "# Filter users who joined after 2020\n",
        "recent_users = users_df[users_df['created_at'] > '2020-01-01']\n",
        "\n",
        "# Merge recent users with their repositories\n",
        "recent_user_repos = repos_df[repos_df['login'].isin(recent_users['login'])]\n",
        "\n",
        "# Filter out rows with missing or empty 'language' values\n",
        "recent_user_repos_with_language = recent_user_repos[recent_user_repos['language'].notna() & (recent_user_repos['language'] != '')]\n",
        "\n",
        "# Count occurrences of each language\n",
        "language_counts = recent_user_repos_with_language['language'].value_counts()\n",
        "\n",
        "# Get the second most popular programming language\n",
        "second_most_common_language = language_counts.index[1] if len(language_counts) > 1 else None\n",
        "\n",
        "# Print the result\n",
        "if second_most_common_language:\n",
        "    print(\"The second most popular programming language among users who joined after 2020 is:\", second_most_common_language)\n",
        "else:\n",
        "    print(\"Not enough data to determine the second most popular programming language.\")\n"
      ],
      "metadata": {
        "colab": {
          "base_uri": "https://localhost:8080/"
        },
        "id": "Ccv0F56jDOfC",
        "outputId": "ab4aefa7-4c29-4fb3-c6e8-1f0c495554ce"
      },
      "execution_count": 61,
      "outputs": [
        {
          "output_type": "stream",
          "name": "stdout",
          "text": [
            "The second most popular programming language among users who joined after 2020 is: PHP\n"
          ]
        }
      ]
    },
    {
      "cell_type": "markdown",
      "source": [
        "###**7. Which language has the highest average number of stars per repository?**\n"
      ],
      "metadata": {
        "id": "2HKfyyxfDadb"
      }
    },
    {
      "cell_type": "code",
      "source": [
        "import pandas as pd\n",
        "\n",
        "# Load the repositories.csv file into a DataFrame\n",
        "repos_df = pd.read_csv('repositories.csv')\n",
        "\n",
        "# Filter out rows with missing or zero values in 'language' and 'stargazers_count'\n",
        "repos_with_stars = repos_df[repos_df['language'].notna() & (repos_df['language'] != '')]\n",
        "repos_with_stars = repos_with_stars[repos_with_stars['stargazers_count'] > 0]\n",
        "\n",
        "# Group by language and calculate the average stars per repository\n",
        "average_stars_per_language = repos_with_stars.groupby('language')['stargazers_count'].mean()\n",
        "\n",
        "# Find the language with the highest average number of stars\n",
        "highest_average_language = average_stars_per_language.idxmax()\n",
        "highest_average_stars = average_stars_per_language.max()\n",
        "\n",
        "# Print the result\n",
        "print(f\"The language with the highest average number of stars per repository is '{highest_average_language}' with an average of {highest_average_stars:.2f} stars.\")\n"
      ],
      "metadata": {
        "colab": {
          "base_uri": "https://localhost:8080/"
        },
        "id": "RPhvA85bDcae",
        "outputId": "d70a8c3a-94c3-4b5b-83a7-0a9923aec716"
      },
      "execution_count": 63,
      "outputs": [
        {
          "output_type": "stream",
          "name": "stdout",
          "text": [
            "The language with the highest average number of stars per repository is 'PureScript' with an average of 228.00 stars.\n"
          ]
        }
      ]
    },
    {
      "cell_type": "markdown",
      "source": [
        "###**8. Let's define leader_strength as followers / (1 + following). Who are the top 5 in terms of leader_strength? List their login in order, comma-separated.**"
      ],
      "metadata": {
        "id": "fplWeejfD9OQ"
      }
    },
    {
      "cell_type": "code",
      "source": [
        "import pandas as pd\n",
        "\n",
        "# Load the users.csv file into a DataFrame\n",
        "users_df = pd.read_csv('users.csv')\n",
        "\n",
        "# Calculate leader_strength\n",
        "users_df['leader_strength'] = users_df['followers'] / (1 + users_df['following'])\n",
        "\n",
        "# Sort the DataFrame by leader_strength in descending order and select the top 5 users\n",
        "top_5_leader_strength = users_df.sort_values(by='leader_strength', ascending=False).head(5)\n",
        "\n",
        "# Extract the 'login' column and create a comma-separated string\n",
        "top_5_logins = ','.join(top_5_leader_strength['login'].values)\n",
        "\n",
        "# Print the result\n",
        "print(top_5_logins)\n"
      ],
      "metadata": {
        "colab": {
          "base_uri": "https://localhost:8080/"
        },
        "id": "6vherMOFD_XE",
        "outputId": "55aa23e4-b297-448b-fe85-1c2468a5b72b"
      },
      "execution_count": 64,
      "outputs": [
        {
          "output_type": "stream",
          "name": "stdout",
          "text": [
            "dpryan79,wasserth,ravage84,elanmart,quadbiolab\n"
          ]
        }
      ]
    },
    {
      "cell_type": "markdown",
      "source": [
        "###**9. What is the correlation between the number of followers and the number of public repositories among users in Basel?**"
      ],
      "metadata": {
        "id": "KiCctVFiECVf"
      }
    },
    {
      "cell_type": "code",
      "source": [
        "import pandas as pd\n",
        "\n",
        "# Load the users.csv file into a DataFrame\n",
        "users_df = pd.read_csv('users.csv')\n",
        "\n",
        "# Calculate the correlation between 'followers' and 'public_repos'\n",
        "correlation = users_df['followers'].corr(users_df['public_repos'])\n",
        "correlation\n"
      ],
      "metadata": {
        "colab": {
          "base_uri": "https://localhost:8080/"
        },
        "id": "rOmKrMbgEBlM",
        "outputId": "b3292f14-8b08-4eb0-a0c4-ead189efa046"
      },
      "execution_count": 65,
      "outputs": [
        {
          "output_type": "execute_result",
          "data": {
            "text/plain": [
              "0.34406396712642345"
            ]
          },
          "metadata": {},
          "execution_count": 65
        }
      ]
    },
    {
      "cell_type": "markdown",
      "source": [
        "###**10. Does creating more repos help users get more followers? Using regression, estimate how many additional followers a user gets per additional public repository.**"
      ],
      "metadata": {
        "id": "zbPZx4lAEZuy"
      }
    },
    {
      "cell_type": "code",
      "source": [
        "import pandas as pd\n",
        "import statsmodels.api as sm\n",
        "\n",
        "# Load the users.csv file into a DataFrame\n",
        "users_df = pd.read_csv('users.csv')\n",
        "\n",
        "# Prepare the data for regression\n",
        "X = users_df['public_repos']  # independent variable\n",
        "y = users_df['followers']      # dependent variable\n",
        "\n",
        "# Add a constant to the independent variable (for the intercept)\n",
        "X = sm.add_constant(X)\n",
        "\n",
        "# Fit the regression model\n",
        "model = sm.OLS(y, X).fit()\n",
        "\n",
        "'''# Print the regression results just for curiosity\n",
        "print(model.summary())'''\n",
        "\n",
        "# Estimate how many additional followers a user gets per additional public repository\n",
        "additional_followers_per_repo = model.params['public_repos']\n",
        "print(f\"Estimated additional followers per public repository: {additional_followers_per_repo:.3f}\")\n"
      ],
      "metadata": {
        "colab": {
          "base_uri": "https://localhost:8080/"
        },
        "id": "_1sfQS46EbIq",
        "outputId": "e6f937b9-175e-433d-df08-baa3918b08b7"
      },
      "execution_count": 70,
      "outputs": [
        {
          "output_type": "stream",
          "name": "stdout",
          "text": [
            "Estimated additional followers per public repository: 0.672\n"
          ]
        }
      ]
    },
    {
      "cell_type": "markdown",
      "source": [
        "###**11. Do people typically enable projects and wikis together? What is the correlation between a repo having projects enabled and having wiki enabled?**"
      ],
      "metadata": {
        "id": "jWIpAqAEE_Wb"
      }
    },
    {
      "cell_type": "code",
      "source": [
        "import pandas as pd\n",
        "\n",
        "# Load the repositories.csv file into a DataFrame\n",
        "repos_df = pd.read_csv('repositories.csv')\n",
        "\n",
        "# Convert 'has_projects' and 'has_wiki' to integer values (True/False to 1/0)\n",
        "repos_df['has_projects'] = repos_df['has_projects'].astype(int)\n",
        "repos_df['has_wiki'] = repos_df['has_wiki'].astype(int)\n",
        "\n",
        "# Calculate the correlation between 'has_projects' and 'has_wiki'\n",
        "correlation = repos_df['has_projects'].corr(repos_df['has_wiki'])\n",
        "\n",
        "# Print the correlation result\n",
        "print(f\"Correlation between having projects enabled and having wiki enabled: {correlation:.3f}\")\n"
      ],
      "metadata": {
        "colab": {
          "base_uri": "https://localhost:8080/"
        },
        "id": "Y7O_Tf3tFDTr",
        "outputId": "3a73eb91-3607-423c-f7a3-7e1358161549"
      },
      "execution_count": 69,
      "outputs": [
        {
          "output_type": "stream",
          "name": "stdout",
          "text": [
            "Correlation between having projects enabled and having wiki enabled: 0.312\n"
          ]
        }
      ]
    },
    {
      "cell_type": "markdown",
      "source": [
        "###**12. Do hireable users follow more people than those who are not hireable?**"
      ],
      "metadata": {
        "id": "NsySw3fCFDrN"
      }
    },
    {
      "cell_type": "code",
      "source": [
        "# Load the users.csv file into a DataFrame\n",
        "users_df = pd.read_csv('users.csv')\n",
        "\n",
        "# Fill missing values in the 'following' column with 0\n",
        "users_df['following'] = users_df['following'].fillna(0)\n",
        "\n",
        "# Calculate the average following for hireable users\n",
        "hireable_avg_following = users_df[users_df['hireable'] == True]['following'].mean()\n",
        "\n",
        "# Calculate the average following for non-hireable users\n",
        "non_hireable_avg_following = users_df[users_df['hireable'] == False]['following'].mean()\n",
        "\n",
        "# Calculate the difference\n",
        "difference = hireable_avg_following - non_hireable_avg_following\n",
        "\n",
        "# Print the difference\n",
        "print(f\"Difference in average following (hireable - non-hireable): {difference:.3f}\")\n"
      ],
      "metadata": {
        "colab": {
          "base_uri": "https://localhost:8080/"
        },
        "id": "TknBCZBLFGyQ",
        "outputId": "7c1b73f5-37e0-404b-983b-a7ae7a812857"
      },
      "execution_count": 71,
      "outputs": [
        {
          "output_type": "stream",
          "name": "stdout",
          "text": [
            "Difference in average following (hireable - non-hireable): 46.940\n"
          ]
        }
      ]
    },
    {
      "cell_type": "markdown",
      "source": [
        "###**13. Some developers write long bios. Does that help them get more followers? What's the correlation of the length of their bio (in Unicode characters) with followers? (Ignore people without bios)**"
      ],
      "metadata": {
        "id": "Ool0pxaDFHhZ"
      }
    },
    {
      "cell_type": "code",
      "source": [
        "import pandas as pd\n",
        "import statsmodels.api as sm\n",
        "\n",
        "# Load the CSV file\n",
        "csv_file = 'users.csv'  # Ensure this path is correct\n",
        "\n",
        "# Load the CSV into a DataFrame\n",
        "df = pd.read_csv(csv_file)\n",
        "\n",
        "# Check the first few rows and the data types of the DataFrame\n",
        "print(\"DataFrame Overview:\")\n",
        "print(df.head())\n",
        "print(\"\\nDataFrame Info:\")\n",
        "print(df.info())\n",
        "\n",
        "# Filter out users without bios\n",
        "df = df[df['bio'].notnull()]\n",
        "\n",
        "# Calculate the length of each bio in words\n",
        "df['bio_word_count'] = df['bio'].str.split().str.len()\n",
        "\n",
        "# Prepare the independent variable (X) and dependent variable (y)\n",
        "X = df['bio_word_count']\n",
        "y = df['followers']  # Adjust the column name as per your dataset\n",
        "\n",
        "# Add a constant to the independent variable (for the intercept)\n",
        "X = sm.add_constant(X)\n",
        "\n",
        "# Fit the regression model\n",
        "model = sm.OLS(y, X).fit()\n",
        "\n",
        "# Get the slope (coefficient of the bio_word_count)\n",
        "slope = model.params['bio_word_count']\n",
        "\n",
        "# Print the regression slope rounded to three decimal places\n",
        "print(f\"\\nRegression slope of followers on bio word count: {slope:.3f}\")"
      ],
      "metadata": {
        "colab": {
          "base_uri": "https://localhost:8080/"
        },
        "id": "2FioJqVyFLXD",
        "outputId": "250d4bec-3665-44e2-8c71-5c1c28d518f0"
      },
      "execution_count": 72,
      "outputs": [
        {
          "output_type": "stream",
          "name": "stdout",
          "text": [
            "DataFrame Overview:\n",
            "       login             name company            location  \\\n",
            "0    tarsius  Jonas Bernoulli     NaN  Basel, Switzerland   \n",
            "1   aalmiray   Andres Almiray     NaN  Basel, Switzerland   \n",
            "2  marcoroth       Marco Roth     NaN  Basel, Switzerland   \n",
            "3       klmr   Konrad Rudolph   ROCHE           Basel, CH   \n",
            "4     MrNeRF          janusch     NaN  Basel, Switzerland   \n",
            "\n",
            "                      email  hireable  \\\n",
            "0          jonas@bernoul.li     False   \n",
            "1        aalmiray@gmail.com     False   \n",
            "2                       NaN      True   \n",
            "3  konrad.rudolph@gmail.com     False   \n",
            "4                       NaN      True   \n",
            "\n",
            "                                                 bio  public_repos  followers  \\\n",
            "0                                                NaN            39       1344   \n",
            "1  I code for fun and help others in the process....           253        887   \n",
            "2  Rubyist, Full-Stack Devloper and Open Source C...           193        555   \n",
            "3  Geneticist 🧬, computer scientist 𝝺 and softwar...           115        472   \n",
            "4  Professional C++ Software Engineer. Skills: CU...            34        434   \n",
            "\n",
            "   following                 created_at  leader_strength  \n",
            "0         45  2008-09-17 19:18:37+00:00        29.217391  \n",
            "1         65  2008-06-17 00:30:56+00:00        13.439394  \n",
            "2       1128  2014-01-15 17:12:11+00:00         0.491585  \n",
            "3        109  2008-12-07 20:55:40+00:00         4.290909  \n",
            "4         37  2017-11-21 18:17:58+00:00        11.421053  \n",
            "\n",
            "DataFrame Info:\n",
            "<class 'pandas.core.frame.DataFrame'>\n",
            "RangeIndex: 347 entries, 0 to 346\n",
            "Data columns (total 12 columns):\n",
            " #   Column           Non-Null Count  Dtype  \n",
            "---  ------           --------------  -----  \n",
            " 0   login            347 non-null    object \n",
            " 1   name             340 non-null    object \n",
            " 2   company          233 non-null    object \n",
            " 3   location         347 non-null    object \n",
            " 4   email            121 non-null    object \n",
            " 5   hireable         347 non-null    bool   \n",
            " 6   bio              190 non-null    object \n",
            " 7   public_repos     347 non-null    int64  \n",
            " 8   followers        347 non-null    int64  \n",
            " 9   following        347 non-null    int64  \n",
            " 10  created_at       347 non-null    object \n",
            " 11  leader_strength  347 non-null    float64\n",
            "dtypes: bool(1), float64(1), int64(3), object(7)\n",
            "memory usage: 30.3+ KB\n",
            "None\n",
            "\n",
            "Regression slope of followers on bio word count: 2.465\n"
          ]
        }
      ]
    },
    {
      "cell_type": "markdown",
      "source": [
        "###**14. Who created the most repositories on weekends (UTC)? List the top 5 users' login in order, comma-separated**"
      ],
      "metadata": {
        "id": "jzz2F5p9FL2L"
      }
    },
    {
      "cell_type": "code",
      "source": [
        "import csv\n",
        "from collections import Counter\n",
        "from datetime import datetime\n",
        "\n",
        "# Assuming you have uploaded the repositories.csv file to Colab\n",
        "weekend_repo_counts = Counter()\n",
        "\n",
        "# Open the CSV file\n",
        "with open('repositories.csv', 'r', encoding='utf-8') as file:\n",
        "    reader = csv.DictReader(file)\n",
        "\n",
        "    for row in reader:\n",
        "        created_at = row.get('created_at', '')\n",
        "        if created_at:\n",
        "            # Parse the created_at date\n",
        "            created_date = datetime.fromisoformat(created_at[:-1])  # Remove 'Z' and convert\n",
        "\n",
        "            # Check if the date falls on a weekend (Saturday or Sunday)\n",
        "            if created_date.weekday() in [5, 6]:  # 5: Saturday, 6: Sunday\n",
        "                user_login = row['login']\n",
        "                weekend_repo_counts[user_login] += 1  # Increment the count for the user\n",
        "\n",
        "# Get the top 5 users who created the most repositories on weekends\n",
        "top_users = weekend_repo_counts.most_common(5)\n",
        "\n",
        "# Extract the logins of the top users\n",
        "top_logins = [user[0] for user in top_users]\n",
        "\n",
        "# Print the top 5 users' logins, comma-separated\n",
        "print(','.join(top_logins))\n"
      ],
      "metadata": {
        "colab": {
          "base_uri": "https://localhost:8080/"
        },
        "id": "88NYnICcFOL5",
        "outputId": "90602f4f-3b62-4c2a-a917-c7d12b09bf98"
      },
      "execution_count": 73,
      "outputs": [
        {
          "output_type": "stream",
          "name": "stdout",
          "text": [
            "marcossegovia,tbreuss,ioolkos,BaselHack,maysam\n"
          ]
        }
      ]
    },
    {
      "cell_type": "markdown",
      "source": [
        "###**15. Do people who are hireable share their email addresses more often?**"
      ],
      "metadata": {
        "id": "rWlfc88qFOsr"
      }
    },
    {
      "cell_type": "code",
      "source": [
        "import pandas as pd\n",
        "\n",
        "# Load the users.csv file into a DataFrame\n",
        "# Make sure to upload the users.csv file first\n",
        "users_df = pd.read_csv('users.csv')\n",
        "\n",
        "# Calculate the total number of hireable and non-hireable users\n",
        "# Fill NaN values in 'hireable' with False to avoid the error\n",
        "users_df['hireable'] = users_df['hireable'].fillna(False)\n",
        "\n",
        "# Calculate the total number of hireable and non-hireable users\n",
        "total_hireable = users_df['hireable'].sum()  # True values count as 1\n",
        "total_non_hireable = (~users_df['hireable']).sum()  # Count of False values\n",
        "\n",
        "# Calculate the number of users with email addresses\n",
        "email_hireable = users_df[users_df['hireable']]['email'].notna().sum()  # Emails for hireable users\n",
        "email_non_hireable = users_df[~users_df['hireable']]['email'].notna().sum()  # Emails for non-hireable users\n",
        "\n",
        "# Calculate the fractions\n",
        "fraction_hireable_with_email = email_hireable / total_hireable if total_hireable > 0 else 0\n",
        "fraction_non_hireable_with_email = email_non_hireable / total_non_hireable if total_non_hireable > 0 else 0\n",
        "\n",
        "# Calculate the difference\n",
        "difference = fraction_hireable_with_email - fraction_non_hireable_with_email\n",
        "\n",
        "# Print the results\n",
        "print(f\"Difference: {difference:.3f}\")\n"
      ],
      "metadata": {
        "colab": {
          "base_uri": "https://localhost:8080/"
        },
        "id": "KCghzvneFSfe",
        "outputId": "b6f2b783-ee5b-445b-e57e-f8926af08318"
      },
      "execution_count": 74,
      "outputs": [
        {
          "output_type": "stream",
          "name": "stdout",
          "text": [
            "Difference: 0.051\n"
          ]
        }
      ]
    },
    {
      "cell_type": "markdown",
      "source": [
        "###**16. Let's assume that the last word in a user's name is their surname (ignore missing names, trim and split by whitespace.) What's the most common surname? (If there's a tie, list them all, comma-separated, alphabetically)**"
      ],
      "metadata": {
        "id": "I24u7U0XFWxh"
      }
    },
    {
      "cell_type": "code",
      "source": [
        "import pandas as pd\n",
        "from collections import Counter\n",
        "\n",
        "# Load the users.csv file into a DataFrame\n",
        "# Make sure to upload the users.csv file first\n",
        "users_df = pd.read_csv('users.csv')\n",
        "\n",
        "# Filter out users with missing names\n",
        "valid_names = users_df['name'].dropna().str.strip()  # Drop NaNs and trim whitespace\n",
        "\n",
        "# Extract surnames by taking the last word of each name\n",
        "surnames = valid_names.str.split().str[-1]  # Get the last word from each name\n",
        "\n",
        "# Count the occurrences of each surname\n",
        "surname_counts = Counter(surnames)\n",
        "\n",
        "# Find the maximum count of surnames\n",
        "max_count = max(surname_counts.values())\n",
        "\n",
        "# Find all surnames with the maximum count and sort them alphabetically\n",
        "most_common_surnames = sorted([surname for surname, count in surname_counts.items() if count == max_count])\n",
        "\n",
        "# Print the result as a comma-separated string\n",
        "print(','.join(most_common_surnames))\n"
      ],
      "metadata": {
        "colab": {
          "base_uri": "https://localhost:8080/"
        },
        "id": "RwwghpVMFY8w",
        "outputId": "b45a1a0b-5888-4f52-9447-fa9d3942090e"
      },
      "execution_count": 75,
      "outputs": [
        {
          "output_type": "stream",
          "name": "stdout",
          "text": [
            "Arnold,Brand,Christensen,Fink,GmbH,Group,Guggisberg,Landolt,Roth,Tan\n"
          ]
        }
      ]
    }
  ]
}